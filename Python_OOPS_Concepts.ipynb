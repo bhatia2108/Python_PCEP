{
  "nbformat": 4,
  "nbformat_minor": 0,
  "metadata": {
    "colab": {
      "provenance": [],
      "authorship_tag": "ABX9TyMo5GPpm75Cc/WdwYMeLGcq",
      "include_colab_link": true
    },
    "kernelspec": {
      "name": "python3",
      "display_name": "Python 3"
    },
    "language_info": {
      "name": "python"
    }
  },
  "cells": [
    {
      "cell_type": "markdown",
      "metadata": {
        "id": "view-in-github",
        "colab_type": "text"
      },
      "source": [
        "<a href=\"https://colab.research.google.com/github/bhatia2108/Python_PCEP/blob/main/Python_OOPS_Concepts.ipynb\" target=\"_parent\"><img src=\"https://colab.research.google.com/assets/colab-badge.svg\" alt=\"Open In Colab\"/></a>"
      ]
    },
    {
      "cell_type": "code",
      "execution_count": 21,
      "metadata": {
        "id": "TgPUE-Aof3hc",
        "outputId": "149a96f3-4f04-4256-fc7e-9168d0bfba9c",
        "colab": {
          "base_uri": "https://localhost:8080/"
        }
      },
      "outputs": [
        {
          "output_type": "stream",
          "name": "stdout",
          "text": [
            "Understanding the OOPS concepts\n",
            "All functions\n",
            "Numbers are : 10 and 5\n",
            "Addition (10 + 5) =  15\n",
            "Subtraction (10 - 5) =  5\n",
            "Multiplication (10 * 5) =  50\n",
            "Division (10 / 5) =  2.0\n",
            "Modulation  (10 % 5) =  2\n"
          ]
        }
      ],
      "source": [
        "from ast import mod\n",
        "# OOPS Concepts\n",
        "print(\"Understanding the OOPS concepts\")\n",
        "class Calculator:\n",
        "  #attributes\n",
        "  n1=0\n",
        "  n2=0\n",
        "  res=0\n",
        "\n",
        "  def __init__(self, n1, n2):\n",
        "    # methods\n",
        "    self.n1=n1\n",
        "    self.n2=n2\n",
        "    self.res=0\n",
        "\n",
        "  def add(self):\n",
        "    self.res= self.n1+self.n2\n",
        "    return self.res\n",
        "\n",
        "  def sub(self):\n",
        "    self.res= self.n1-self.n2\n",
        "    return self.res\n",
        "\n",
        "  def mul(self):\n",
        "    self.res= self.n1*self.n2\n",
        "    return self.res\n",
        "\n",
        "  def div(self):\n",
        "    if self.n2!=0:\n",
        "      self.res= self.n1/self.n2\n",
        "      return self.res\n",
        "    else:\n",
        "      return \"Invalid arguments\"\n",
        "\n",
        "  def mod(self):\n",
        "    if self.n2!=0:\n",
        "      self.res=(self.n1//self.n2)\n",
        "      return self.res\n",
        "    else:\n",
        "      return \"Invalid\"\n",
        "\n",
        "obj = Calculator(10, 5) # object 1 creation\n",
        "obj2 = Calculator(100, 200)\n",
        "\n",
        "print(\"All functions\")\n",
        "print(f\"Numbers are : {obj.n1} and {obj.n2}\")\n",
        "print(f\"Addition ({obj.n1} + {obj.n2}) = \", obj.add())\n",
        "print(f\"Subtraction ({obj.n1} - {obj.n2}) = \", obj.sub())\n",
        "print(f\"Multiplication ({obj.n1} * {obj.n2}) = \", obj.mul())\n",
        "print(f\"Division ({obj.n1} / {obj.n2}) = \", obj.div())\n",
        "print(f\"Modulation  ({obj.n1} % {obj.n2}) = \", obj.mod())"
      ]
    }
  ]
}