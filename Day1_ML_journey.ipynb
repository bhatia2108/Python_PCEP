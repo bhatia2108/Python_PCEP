{
  "nbformat": 4,
  "nbformat_minor": 0,
  "metadata": {
    "colab": {
      "provenance": []
    },
    "kernelspec": {
      "name": "python3",
      "display_name": "Python 3"
    },
    "language_info": {
      "name": "python"
    }
  },
  "cells": [
    {
      "cell_type": "code",
      "execution_count": null,
      "metadata": {
        "colab": {
          "base_uri": "https://localhost:8080/"
        },
        "id": "HpmbKqI7jltH",
        "outputId": "0ec1bf68-5f68-4ec7-f746-ea081ec8cab5"
      },
      "outputs": [
        {
          "output_type": "stream",
          "name": "stdout",
          "text": [
            "hello world\n"
          ]
        }
      ],
      "source": [
        "print(\"hello world\")"
      ]
    },
    {
      "cell_type": "code",
      "source": [
        "print(\"String Operations\")"
      ],
      "metadata": {
        "id": "34ZbDQBAxLWX",
        "colab": {
          "base_uri": "https://localhost:8080/"
        },
        "outputId": "adc60b50-857b-426e-933d-254ed32ab22c"
      },
      "execution_count": 2,
      "outputs": [
        {
          "output_type": "stream",
          "name": "stdout",
          "text": [
            "String Operations\n"
          ]
        }
      ]
    },
    {
      "cell_type": "code",
      "source": [
        "s =\"Bangalore\""
      ],
      "metadata": {
        "id": "7RkJm2JB5Om8"
      },
      "execution_count": 3,
      "outputs": []
    },
    {
      "cell_type": "code",
      "source": [
        "#slicing\n",
        "s1 = s[-1::]\n",
        "print(s1)"
      ],
      "metadata": {
        "colab": {
          "base_uri": "https://localhost:8080/"
        },
        "id": "van9btVV5TDF",
        "outputId": "4f102108-1242-4a73-ad24-4acf1407515a"
      },
      "execution_count": 21,
      "outputs": [
        {
          "output_type": "stream",
          "name": "stdout",
          "text": [
            "e\n"
          ]
        }
      ]
    },
    {
      "cell_type": "code",
      "source": [
        "s2= \"Hello, World!\"\n",
        "print(s2[-5:2:-2])"
      ],
      "metadata": {
        "colab": {
          "base_uri": "https://localhost:8080/"
        },
        "id": "3SJbvxSA5ZA9",
        "outputId": "684c16d3-d3a7-4a8b-dadb-6ec30a483642"
      },
      "execution_count": 23,
      "outputs": [
        {
          "output_type": "stream",
          "name": "stdout",
          "text": [
            "o o\n"
          ]
        }
      ]
    },
    {
      "cell_type": "code",
      "source": [
        "s3 = \"Bangalore\"\n",
        "print(s3[0:-1:-2])\n",
        "print(s3[1:-4:-1])"
      ],
      "metadata": {
        "colab": {
          "base_uri": "https://localhost:8080/"
        },
        "id": "5bFxai2Y-j6O",
        "outputId": "619dae72-20a2-47d7-b17b-edfc9d3bb162"
      },
      "execution_count": 27,
      "outputs": [
        {
          "output_type": "stream",
          "name": "stdout",
          "text": [
            "\n",
            "\n"
          ]
        }
      ]
    },
    {
      "cell_type": "code",
      "source": [
        "# input function\n",
        "a=bool(input(\"Enter a value: \"))\n",
        "print(a)\n",
        "print(type(a))"
      ],
      "metadata": {
        "colab": {
          "base_uri": "https://localhost:8080/"
        },
        "id": "X2nS4om2-pYm",
        "outputId": "1b911cf5-eaaa-4487-972a-c5cb0fc84ab1"
      },
      "execution_count": 34,
      "outputs": [
        {
          "output_type": "stream",
          "name": "stdout",
          "text": [
            "Enter a value: -1\n",
            "True\n",
            "<class 'bool'>\n"
          ]
        }
      ]
    },
    {
      "cell_type": "code",
      "source": [
        "s=input(\"Enter a string\")\n",
        "if s==s[::-1]:\n",
        "  print(\"String is palindrome\")\n",
        "else:\n",
        "  print(\"String is not a palindrome\")"
      ],
      "metadata": {
        "colab": {
          "base_uri": "https://localhost:8080/"
        },
        "id": "x7GiZdphBKJh",
        "outputId": "5f1ac005-e802-4eb2-ebcf-5c847566a878"
      },
      "execution_count": 37,
      "outputs": [
        {
          "output_type": "stream",
          "name": "stdout",
          "text": [
            "Enter a stringHello\n",
            "String is not a palindrome\n"
          ]
        }
      ]
    },
    {
      "cell_type": "code",
      "source": [
        "num = int(input(\"Enter a number: \"))\n",
        "i=1\n",
        "while i<=10:\n",
        "  # print(f\"{num} X {i} = {num*i}\")\n",
        "  print(num, \"x\", i, \"=\", i*num)\n",
        "  i+=1"
      ],
      "metadata": {
        "colab": {
          "base_uri": "https://localhost:8080/"
        },
        "id": "kaDw0DI6IeD9",
        "outputId": "9c9a683e-1ef0-4c71-85e7-c8c3b11f2d49"
      },
      "execution_count": 41,
      "outputs": [
        {
          "output_type": "stream",
          "name": "stdout",
          "text": [
            "Enter a number: 7\n",
            "7 x 1 = 7\n",
            "7 x 2 = 14\n",
            "7 x 3 = 21\n",
            "7 x 4 = 28\n",
            "7 x 5 = 35\n",
            "7 x 6 = 42\n",
            "7 x 7 = 49\n",
            "7 x 8 = 56\n",
            "7 x 9 = 63\n",
            "7 x 10 = 70\n"
          ]
        }
      ]
    },
    {
      "cell_type": "code",
      "source": [
        "# String Deletion\n",
        "\n",
        "s1=\"NTT\"\n",
        "print(s1)\n",
        "del s1"
      ],
      "metadata": {
        "colab": {
          "base_uri": "https://localhost:8080/"
        },
        "id": "a65fXg5aI3Z8",
        "outputId": "e0738c7a-000f-4910-a913-a952b7a6b5dd"
      },
      "execution_count": 3,
      "outputs": [
        {
          "output_type": "stream",
          "name": "stdout",
          "text": [
            "NTT\n"
          ]
        }
      ]
    },
    {
      "cell_type": "code",
      "source": [
        "# length of string (using manual operation)\n",
        "\n",
        "s=input(\"Enter the string\")\n",
        "counter=0\n",
        "for i in s:\n",
        "  counter+=1\n",
        "print(\"Length of string is \", counter)"
      ],
      "metadata": {
        "colab": {
          "base_uri": "https://localhost:8080/"
        },
        "id": "qTf5DlgPA-uD",
        "outputId": "a617cabf-bd93-48ac-e26c-e03da324faeb"
      },
      "execution_count": 5,
      "outputs": [
        {
          "output_type": "stream",
          "name": "stdout",
          "text": [
            "Enter the stringBangalore\n",
            "Length of string is  9\n"
          ]
        }
      ]
    },
    {
      "cell_type": "code",
      "source": [
        "# use len function\n",
        "\n",
        "print(len(s))\n"
      ],
      "metadata": {
        "colab": {
          "base_uri": "https://localhost:8080/"
        },
        "id": "w4GFLfZjBAuh",
        "outputId": "1f44bbcb-7490-4043-abb5-4f7b1f50fdb8"
      },
      "execution_count": 6,
      "outputs": [
        {
          "output_type": "stream",
          "name": "stdout",
          "text": [
            "9\n"
          ]
        }
      ]
    },
    {
      "cell_type": "code",
      "source": [
        "# membership operator\n",
        "character = input(\"Enter the string :  \")\n",
        "\n",
        "if character in \"apple\":\n",
        "  print(\"yes\")\n",
        "else:\n",
        "  print(\"b\")"
      ],
      "metadata": {
        "id": "hFhrEqxDCh4K",
        "outputId": "2452bd38-6980-46aa-be50-36f0382db575",
        "colab": {
          "base_uri": "https://localhost:8080/"
        }
      },
      "execution_count": 7,
      "outputs": [
        {
          "output_type": "stream",
          "name": "stdout",
          "text": [
            "Enter the string : e\n",
            "yes\n"
          ]
        }
      ]
    },
    {
      "cell_type": "code",
      "source": [
        "\"\"\" count() function is an\n",
        "inbuilt method which returns\n",
        "a number of times a specified\n",
        "substring occurs in a string \"\"\"\n",
        "# count method\n",
        "print(\"Checking the count method\")\n",
        "main_string = input(\"Enter a string\")\n",
        "sub_string = input(\"Enter a substring\")\n",
        "\n",
        "count = main_string.count(sub_string, 3,5)\n",
        "print(count)"
      ],
      "metadata": {
        "id": "yqM7a8xoC36p",
        "outputId": "fe6637d8-5d88-46bc-a4aa-ea5677303989",
        "colab": {
          "base_uri": "https://localhost:8080/"
        }
      },
      "execution_count": 12,
      "outputs": [
        {
          "output_type": "stream",
          "name": "stdout",
          "text": [
            "Checking the count method\n",
            "Enter a stringBangalore\n",
            "Enter a substringga\n",
            "1\n"
          ]
        }
      ]
    },
    {
      "cell_type": "code",
      "source": [],
      "metadata": {
        "id": "ebTwqwvqC03y"
      },
      "execution_count": null,
      "outputs": []
    }
  ]
}